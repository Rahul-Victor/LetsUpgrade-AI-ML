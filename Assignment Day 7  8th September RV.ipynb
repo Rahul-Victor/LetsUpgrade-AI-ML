{
 "cells": [
  {
   "cell_type": "markdown",
   "metadata": {},
   "source": [
    "## Question 1:\n",
    "Write a program to copy the contents of one file to another using a for loop. (Don’t use built-in copy\n",
    "function)"
   ]
  },
  {
   "cell_type": "code",
   "execution_count": 1,
   "metadata": {},
   "outputs": [],
   "source": [
    "f1=open(\"Text.txt\",\"r\")\n",
    "f2=open(\"Text-2.txt\",\"w\")\n",
    "r=f1.readlines()\n",
    "for i in r:\n",
    "    f2.write(i)\n",
    "f1.close()\n",
    "f2.close()"
   ]
  },
  {
   "cell_type": "markdown",
   "metadata": {},
   "source": [
    "## Question 2:\n",
    "Write a Python program to find maximum and minimum values in the dictionary. Do not use built-in min\n",
    "and max functions."
   ]
  },
  {
   "cell_type": "code",
   "execution_count": 2,
   "metadata": {},
   "outputs": [
    {
     "name": "stdout",
     "output_type": "stream",
     "text": [
      "Maximum Value: 78\n",
      "Minimum Value: 10\n"
     ]
    }
   ],
   "source": [
    "a={1:10,2:54,3:36,4:78,5:15}\n",
    "b=[]\n",
    "for i in a.keys():\n",
    "    b.append(a.get(i))\n",
    "for i in range(len(b)):\n",
    "    for j in range(len(b)-1):\n",
    "        if b[j]>b[j+1]:\n",
    "            b[j],b[j+1]=b[j+1],b[j]\n",
    "print(\"Maximum Value:\",b[-1])\n",
    "print(\"Minimum Value:\",b[0])"
   ]
  }
 ],
 "metadata": {
  "kernelspec": {
   "display_name": "Python 3",
   "language": "python",
   "name": "python3"
  },
  "language_info": {
   "codemirror_mode": {
    "name": "ipython",
    "version": 3
   },
   "file_extension": ".py",
   "mimetype": "text/x-python",
   "name": "python",
   "nbconvert_exporter": "python",
   "pygments_lexer": "ipython3",
   "version": "3.7.4"
  }
 },
 "nbformat": 4,
 "nbformat_minor": 2
}
