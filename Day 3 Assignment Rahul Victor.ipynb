{
 "cells": [
  {
   "cell_type": "markdown",
   "metadata": {},
   "source": [
    "Question 1: Write a program to substract to complex numbers"
   ]
  },
  {
   "cell_type": "code",
   "execution_count": 1,
   "metadata": {},
   "outputs": [
    {
     "name": "stdout",
     "output_type": "stream",
     "text": [
      "Enter your complex number1 10+10j\n",
      "Enter your complex number2 5+5j\n",
      "a-b= (5+5j)\n"
     ]
    }
   ],
   "source": [
    "    a = complex(input(\"Enter your complex number1 \") )\n",
    "    b = complex(input(\"Enter your complex number2 \") )\n",
    "    \n",
    "    c = a-b\n",
    "\n",
    "    print(\"a-b=\",c)\n"
   ]
  },
  {
   "cell_type": "markdown",
   "metadata": {},
   "source": [
    "Question 2: Write a program to find the fourth root of a number"
   ]
  },
  {
   "cell_type": "code",
   "execution_count": 3,
   "metadata": {},
   "outputs": [
    {
     "name": "stdout",
     "output_type": "stream",
     "text": [
      "Enter your number = 81\n",
      "Fourth root is:  3.0\n"
     ]
    }
   ],
   "source": [
    "a = int(input(\"Enter your number = \"))\n",
    "\n",
    "root4th = a**(1/4)\n",
    "\n",
    "print( \"Fourth root is: \",root4th)\n"
   ]
  },
  {
   "cell_type": "markdown",
   "metadata": {},
   "source": [
    "Question 3: Write a program to swap two numbers in Python with the help of a temporary variable."
   ]
  },
  {
   "cell_type": "code",
   "execution_count": 5,
   "metadata": {},
   "outputs": [
    {
     "name": "stdout",
     "output_type": "stream",
     "text": [
      "Enter your first number = 10\n",
      "Enter your second number = 11\n",
      "\n",
      "First number=  10 \n",
      "Second number=  11\n",
      "\n",
      "After swaping \n",
      "First number=  11 \n",
      "Second number=  10\n"
     ]
    }
   ],
   "source": [
    "a= int(input(\"Enter your first number = \"))\n",
    "b= int(input(\"Enter your second number = \"))\n",
    "print(\"\\nFirst number= \",a,\"\\nSecond number= \",b)\n",
    "c=a\n",
    "a=b\n",
    "b=c\n",
    "print(\"\\nAfter swaping\", \"\\nFirst number= \",a,\"\\nSecond number= \",b)"
   ]
  },
  {
   "cell_type": "markdown",
   "metadata": {},
   "source": [
    "Question 4: Write a program to swap two numbers in Python without using a temporary variable"
   ]
  },
  {
   "cell_type": "code",
   "execution_count": 7,
   "metadata": {},
   "outputs": [
    {
     "name": "stdout",
     "output_type": "stream",
     "text": [
      "Enter your first number = 11\n",
      "Enter your second number = 12\n",
      "\n",
      "First number=  11 \n",
      "Second number=  12\n",
      "\n",
      "After swaping \n",
      "First number=  12 \n",
      "Second number=  11\n"
     ]
    }
   ],
   "source": [
    "a = int( input(\"Enter your first number = \") )\n",
    "b = int( input(\"Enter your second number = \") )\n",
    "print(\"\\nFirst number= \",a,\"\\nSecond number= \",b)\n",
    "a=a+b\n",
    "b=a-b\n",
    "a=a-b\n",
    "print(\"\\nAfter swaping\", \"\\nFirst number= \",a,\"\\nSecond number= \",b)"
   ]
  },
  {
   "cell_type": "markdown",
   "metadata": {},
   "source": [
    "Question 5: Write a program to convert Fahrenheit to kelvin and celsius both."
   ]
  },
  {
   "cell_type": "code",
   "execution_count": null,
   "metadata": {},
   "outputs": [],
   "source": [
    "f = int( input(\"Input temprature in Fahrenheit = \") )\n",
    "c = (f-32)*(5/9)\n",
    "k = c + 273.17\n",
    "print( \"\\nTemprature in Kelvin =\",k,\"\\nTemprature in Celsius = \",c)"
   ]
  },
  {
   "cell_type": "markdown",
   "metadata": {},
   "source": [
    "Question 6: Write a program to demonstrate all the available data types in Python."
   ]
  },
  {
   "cell_type": "code",
   "execution_count": 4,
   "metadata": {},
   "outputs": [
    {
     "name": "stdout",
     "output_type": "stream",
     "text": [
      " all the data types in python\n",
      "All the data types entered are\n",
      "\n",
      "type of a= <class 'int'> \n",
      "type of b= <class 'float'> \n",
      "type of c= <class 'complex'> \n",
      "type of d= <class 'str'> \n",
      "type of e= <class 'bool'> \n",
      "type of f= <class 'tuple'>\n"
     ]
    }
   ],
   "source": [
    "print(\" all the data types in python\")\n",
    "a=1\n",
    "b=1.0\n",
    "c= 1 + 1j\n",
    "d=\"1\"\n",
    "e=True\n",
    "f=(1,1,1)\n",
    "g=[1,1,1]\n",
    "\n",
    "\n",
    "print(\"All the data types entered are\")\n",
    "print(\"\\ntype of a=\", type(a) , \"\\ntype of b=\", type(b) ,\"\\ntype of c=\" , type(c) , \"\\ntype of d=\" , type(d) , \"\\ntype of e=\" , type(e) , \"\\ntype of f=\",type(f) )\n"
   ]
  }
 ],
 "metadata": {
  "kernelspec": {
   "display_name": "Python 3",
   "language": "python",
   "name": "python3"
  }
 },
 "nbformat": 4,
 "nbformat_minor": 2
}
