{
 "cells": [
  {
   "cell_type": "markdown",
   "metadata": {},
   "source": [
    "### Question 1 : Write a Python program to find the first 20 non-even prime natural numbers."
   ]
  },
  {
   "cell_type": "code",
   "execution_count": 1,
   "metadata": {},
   "outputs": [
    {
     "name": "stdout",
     "output_type": "stream",
     "text": [
      "First 20 non even Prime Numbers are :\n",
      "3\n",
      "5\n",
      "7\n",
      "11\n",
      "13\n",
      "17\n",
      "19\n",
      "23\n",
      "29\n",
      "31\n",
      "37\n",
      "41\n",
      "43\n",
      "47\n",
      "53\n",
      "59\n",
      "61\n",
      "67\n",
      "71\n",
      "73\n"
     ]
    }
   ],
   "source": [
    "print('First 20 non even Prime Numbers are :')\n",
    "for num in range(3, 75):\n",
    "   # all prime numbers are greater than 1\n",
    "    for i in range(2, num):\n",
    "        if (num % i) == 0:\n",
    "            break\n",
    "    else:\n",
    "        print(num)"
   ]
  },
  {
   "cell_type": "markdown",
   "metadata": {},
   "source": [
    "### Question 2 : Write a Python program to implement 15 functions of string."
   ]
  },
  {
   "cell_type": "code",
   "execution_count": 3,
   "metadata": {},
   "outputs": [
    {
     "name": "stdout",
     "output_type": "stream",
     "text": [
      "The string is Hello world is the first program\n",
      "\n",
      "1. Upper:\n",
      "HELLO WORLD IS THE FIRST PROGRAM\n",
      "\n",
      "2. Lower:\n",
      "hello world is the first program\n",
      "\n",
      "3. Right Strip:\n",
      "Hello world is the first program\n",
      "\n",
      "4. Left Strip:\n",
      "Hello world is the first program\n",
      "\n",
      "5. Strip:\n",
      "Hello world is the first program\n",
      "\n",
      "6. Is all Alphabets only ?:\n",
      "True\n",
      "\n",
      "7. Find location of f in string using Find function \n",
      "19\n",
      "\n",
      "8. Replacing all f with z\n",
      "Hello world is the zirst program\n",
      "\n",
      "9. Checking if String Ends with y or not \n",
      "False\n",
      "\n",
      "10. Spliting String \n",
      "['Hello', 'world', 'is', 'the', 'first', 'program']\n",
      "\n",
      "11. Checking Is String startswith W? \n",
      "False\n",
      "\n",
      "12. Swaping Case:\n",
      "hELLO WORLD IS THE FIRST PROGRAM\n",
      "\n",
      "13. Counting How many times did e appears: \n",
      "2\n",
      "\n",
      "14. Printing thee Index of letter m \n",
      "31\n",
      "\n",
      "15. isDigit:\n",
      "False\n"
     ]
    }
   ],
   "source": [
    "string1 = \"Hello world is the first program\"\n",
    "print(\"The string is\", string1)\n",
    "print('\\n1. Upper:')\n",
    "print(string1.upper())\n",
    "print('\\n2. Lower:')\n",
    "print(string1.lower())\n",
    "print('\\n3. Right Strip:')\n",
    "print(string1.rstrip())\n",
    "print('\\n4. Left Strip:')\n",
    "print(string1.lstrip())\n",
    "print('\\n5. Strip:')\n",
    "print(string1.strip())\n",
    "string2 = \"Helloworldisthefirstprogram\"\n",
    "print('\\n6. Is all Alphabets only ?:')\n",
    "print(string2.isalpha())\n",
    "print('\\n7. Find location of f in string using Find function ')\n",
    "print(string1.find('f'))\n",
    "print('\\n8. Replacing all f with z')\n",
    "print(string1.replace('f','z'))\n",
    "print('\\n9. Checking if String Ends with y or not ')\n",
    "print(string1.endswith('y '))\n",
    "print('\\n10. Spliting String ')\n",
    "print(string1.split()) \n",
    "print('\\n11. Checking Is String startswith W? ')\n",
    "print(string1.startswith(' W'))\n",
    "print('\\n12. Swaping Case:')\n",
    "print(string1.swapcase())\n",
    "print('\\n13. Counting How many times did e appears: ')\n",
    "print(string1.count('e'))\n",
    "print(\"\\n14. Printing thee Index of letter m \")\n",
    "print(string1.index('m'))\n",
    "print('\\n15. isDigit:')\n",
    "print(string1.isdigit())"
   ]
  },
  {
   "cell_type": "markdown",
   "metadata": {},
   "source": [
    "### Question 3: Write a Python program to check if the given string is a Palindrome or Anagram or None of them. Display the message accordingly to the user."
   ]
  },
  {
   "cell_type": "code",
   "execution_count": 9,
   "metadata": {},
   "outputs": [
    {
     "name": "stdout",
     "output_type": "stream",
     "text": [
      "Enter a string to check whether it is a palindrome or not? malayalam\n",
      "Entered String is a Palindrome \n"
     ]
    }
   ],
   "source": [
    "string = input('Enter a string to check whether it is a palindrome or not? ')\n",
    "\n",
    "# Reversing the String\n",
    "rev = string[::-1]\n",
    "#rev = rev.lower()\n",
    "                    # print(rev) ----- 'ayir'\n",
    "\n",
    "if rev == string:\n",
    "    print(\"Entered String is a Palindrome \")\n",
    "\n",
    "elif rev != string:\n",
    "    string3 = input('Enter Second String for checking Anagram : ')\n",
    "    \n",
    "    # Sorting the Strings:\n",
    "    sort_string = sorted(string)\n",
    "    sort_string3 = sorted(string3)\n",
    "                    #print(sort_string) ------------ ['a','i','r','y']\n",
    "                    #print(sort_string2) ------------- [ 'a','i','r','y']\n",
    "    \n",
    "    # Converting List to String:\n",
    "    join_str = ''.join((sort_string))\n",
    "            #join_str = join_str.lower()\n",
    "    join_str3 = ''.join((sort_string3))\n",
    "            #join_str3 = join_str3.lower()\n",
    "                   #print(join_str3) #---------- 'airy'\n",
    "    \n",
    "    if join_str == join_str3:\n",
    "        print(\"Entered Strings is an Anagram \")\n",
    "        \n",
    "else:\n",
    "    print(\"Entered string is None of these \")"
   ]
  },
  {
   "cell_type": "markdown",
   "metadata": {},
   "source": [
    "### Question 4: Write a Python's user-defined function that removes all the additional characters from the string and convert it finally to lower case using built-in lower(). eg: If the string is \"Dr. Darshan Ingle @AIML Trainer\",then the output be \"drdarshaningleaimltrainer\"."
   ]
  },
  {
   "cell_type": "code",
   "execution_count": 10,
   "metadata": {},
   "outputs": [
    {
     "name": "stdout",
     "output_type": "stream",
     "text": [
      "String is : Dr. Darshan Ingle @AI-ML Trainer\n",
      "After removing all special Characters from String\n",
      "Resultant string is:  drdarshaningleaimltrainer\n"
     ]
    }
   ],
   "source": [
    "def replace_char(y):\n",
    "    invalid_list = ['!','@',\"#\",\"$\",'%','^','&','*','(',')','+','_','?','.',':','-',\" \"]\n",
    "    for i in invalid_list : \n",
    "        y = y.replace(i,'')\n",
    "        y = y.lower()\n",
    "    print(\"After removing all special Characters from String\")\n",
    "    print(\"Resultant string is: \",y)\n",
    "    \n",
    "string_5 = 'Dr. Darshan Ingle @AI-ML Trainer'\n",
    "print(\"String is :\", string_5)\n",
    "replace_char(string_5)"
   ]
  }
 ],
 "metadata": {
  "kernelspec": {
   "display_name": "Python 3",
   "language": "python",
   "name": "python3"
  },
  "language_info": {
   "codemirror_mode": {
    "name": "ipython",
    "version": 3
   },
   "file_extension": ".py",
   "mimetype": "text/x-python",
   "name": "python",
   "nbconvert_exporter": "python",
   "pygments_lexer": "ipython3",
   "version": "3.7.4"
  }
 },
 "nbformat": 4,
 "nbformat_minor": 2
}
